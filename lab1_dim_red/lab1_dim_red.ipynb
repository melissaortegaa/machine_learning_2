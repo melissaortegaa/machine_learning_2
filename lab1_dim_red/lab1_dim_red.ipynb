{
 "cells": [
  {
   "cell_type": "code",
   "execution_count": 72,
   "metadata": {},
   "outputs": [],
   "source": [
    "# Librerías\n",
    "import numpy as np"
   ]
  },
  {
   "cell_type": "markdown",
   "metadata": {},
   "source": [
    "1. Simulate any random rectangular matrix A"
   ]
  },
  {
   "cell_type": "code",
   "execution_count": 73,
   "metadata": {},
   "outputs": [
    {
     "data": {
      "text/plain": [
       "array([[0.11906251, 0.55077125, 0.48064423, 0.45225558, 0.68252206],\n",
       "       [0.0946479 , 0.32238215, 0.54125639, 0.57816733, 0.77510856],\n",
       "       [0.46980143, 0.17661246, 0.94671317, 0.15196672, 0.51326632]])"
      ]
     },
     "execution_count": 73,
     "metadata": {},
     "output_type": "execute_result"
    }
   ],
   "source": [
    "A = np.random.rand(3,5)\n",
    "A"
   ]
  },
  {
   "cell_type": "code",
   "execution_count": 74,
   "metadata": {},
   "outputs": [
    {
     "name": "stdout",
     "output_type": "stream",
     "text": [
      "The rank of A matrix is:  3\n",
      "The trace of A matrix is:  1.3881578319105263\n"
     ]
    }
   ],
   "source": [
    "# 1.1  What is the rank and trace of A?\n",
    "print(f'The rank of A matrix is: ', np.linalg.matrix_rank(A))\n",
    "print(f'The trace of A matrix is: ', np.trace(A))"
   ]
  },
  {
   "cell_type": "code",
   "execution_count": 75,
   "metadata": {},
   "outputs": [
    {
     "name": "stdout",
     "output_type": "stream",
     "text": [
      "LinAlgError: Last 2 dimensions of the array must be square\n"
     ]
    }
   ],
   "source": [
    "# 1.2 What is the determinant of A?\n",
    "# print(f'The determinant of A matrix is: ', np.linalg.det(A))\n",
    "\n",
    "print('LinAlgError: Last 2 dimensions of the array must be square')"
   ]
  },
  {
   "cell_type": "code",
   "execution_count": 76,
   "metadata": {},
   "outputs": [
    {
     "name": "stdout",
     "output_type": "stream",
     "text": [
      "The pseudo-inverse of A matrix is: \n",
      "\n",
      " [[ 3.22469448e-01 -8.25270029e-01  7.29020741e-01]\n",
      " [ 3.48920301e+00 -2.79122004e+00 -2.36145358e-01]\n",
      " [-4.11015251e-01  3.18790618e-03  9.51718518e-01]\n",
      " [-1.03575249e+00  1.86657508e+00 -5.82941588e-01]\n",
      " [-4.31004060e-01  1.15729773e+00 -2.20559012e-01]]\n"
     ]
    }
   ],
   "source": [
    "# 1.3 Can you invert A? How?\n",
    "\n",
    "# print(f'The inverse of A matrix is: \\n', np.linalg.inv(A))\n",
    "A_inverse = np.linalg.pinv(A)\n",
    "print(f'The pseudo-inverse of A matrix is: \\n\\n', A_inverse)\n",
    "\n",
    "# inv: lineal no se puede porque no es cuadrada ni tiene determinante\n",
    "# p: calcula una pseudoinversa con pérdida computacional"
   ]
  },
  {
   "cell_type": "code",
   "execution_count": 95,
   "metadata": {},
   "outputs": [
    {
     "data": {
      "text/plain": [
       "array([[0.11906251, 0.0946479 , 0.46980143],\n",
       "       [0.55077125, 0.32238215, 0.17661246],\n",
       "       [0.48064423, 0.54125639, 0.94671317],\n",
       "       [0.45225558, 0.57816733, 0.15196672],\n",
       "       [0.68252206, 0.77510856, 0.51326632]])"
      ]
     },
     "execution_count": 95,
     "metadata": {},
     "output_type": "execute_result"
    }
   ],
   "source": [
    "# Calculating A_T\n",
    "A_T = np.transpose(A)\n",
    "A_T"
   ]
  },
  {
   "cell_type": "code",
   "execution_count": 91,
   "metadata": {},
   "outputs": [
    {
     "name": "stdout",
     "output_type": "stream",
     "text": [
      "The eigenvalues of A * A_T : \n",
      " [3.57751397 0.03851868 0.37850763]\n",
      "\n",
      " The eigenvectors of A * A_T : \n",
      " [[-0.56262067 -0.71170458 -0.42063592]\n",
      " [-0.59430898  0.70187671 -0.39263968]\n",
      " [-0.57467802 -0.0290805   0.81786276]]\n"
     ]
    }
   ],
   "source": [
    "# 1.4 How are eigenvalues and eigenvectors\n",
    "\n",
    "# Eigen values and vector of AA_T\n",
    "eigenvalues, eigenvectors = np.linalg.eig(A @ A_T)\n",
    "print('The eigenvalues of A * A_T : \\n', eigenvalues)\n",
    "print('\\n The eigenvectors of A * A_T : \\n', eigenvectors)"
   ]
  },
  {
   "cell_type": "code",
   "execution_count": 93,
   "metadata": {},
   "outputs": [
    {
     "name": "stdout",
     "output_type": "stream",
     "text": [
      "The eigenvalues of A_T * A : \n",
      " [ 3.57751397e+00  3.78507626e-01  3.85186810e-02 -9.19358801e-17\n",
      "  1.20583273e-16]\n",
      "\n",
      " The eigenvalues of A_T * A : \n",
      " [[-0.20789631 -0.48272798  0.1628857  -0.80503281 -0.03423418]\n",
      " [-0.31878771  0.34752781  0.87052042  0.01145829 -0.13005597]\n",
      " [-0.60068209 -0.58447515 -0.05241808  0.39134268 -0.2392066 ]\n",
      " [-0.36236587  0.47617733 -0.40512503 -0.42421375 -0.649097  ]\n",
      " [-0.60251599  0.2790019  -0.22088121  0.1366912   0.70948344]]\n"
     ]
    }
   ],
   "source": [
    "# 1.4 How are eigenvalues and eigenvectors\n",
    "\n",
    "# Eigen values and vector of A_T*A\n",
    "eigenvalues, eigenvectors = np.linalg.eig(A_T @ A)\n",
    "\n",
    "print('The eigenvalues of A_T * A : \\n', eigenvalues)\n",
    "print('\\n The eigenvalues of A_T * A : \\n', eigenvectors)"
   ]
  },
  {
   "cell_type": "markdown",
   "metadata": {},
   "source": [
    "# 2. ADD\n"
   ]
  },
  {
   "cell_type": "code",
   "execution_count": 117,
   "metadata": {},
   "outputs": [],
   "source": [
    "import cv2"
   ]
  },
  {
   "cell_type": "code",
   "execution_count": 118,
   "metadata": {},
   "outputs": [
    {
     "name": "stdout",
     "output_type": "stream",
     "text": [
      "El tamaño de la figura es: (194, 259) pixeles\n",
      "La figura tiene: 3 canales\n",
      "La figuras es de tipo: uint8\n",
      "La figura tiene pixeles en el rango: 0 - 255\n"
     ]
    }
   ],
   "source": [
    "# Análisis exploratorio de las imágenes\n",
    "im = cv2.imread(\"melissa.jpeg\")\n",
    "\n",
    "# Definir parámetros\n",
    "img_shape = im.shape\n",
    "img_size = (im.shape[0], im.shape[1])\n",
    "channels = im.shape[2]\n",
    "color = 'rgb'\n",
    "\n",
    "# Imprimir características de la imágen aleatoria\n",
    "print(f\"El tamaño de la figura es: {img_size} pixeles\" )\n",
    "print(f\"La figura tiene: {channels} canales\")\n",
    "print(f\"La figuras es de tipo: {im.dtype}\")\n",
    "print(f\"La figura tiene pixeles en el rango: {im.min()} - {im.max()}\")"
   ]
  },
  {
   "cell_type": "code",
   "execution_count": 120,
   "metadata": {},
   "outputs": [
    {
     "data": {
      "text/plain": [
       "array([[[255, 255, 255],\n",
       "        [255, 255, 255],\n",
       "        [255, 255, 255],\n",
       "        ...,\n",
       "        [255, 255, 255],\n",
       "        [255, 255, 255],\n",
       "        [255, 255, 255]],\n",
       "\n",
       "       [[255, 255, 255],\n",
       "        [255, 255, 255],\n",
       "        [255, 255, 255],\n",
       "        ...,\n",
       "        [255, 255, 255],\n",
       "        [255, 255, 255],\n",
       "        [255, 255, 255]],\n",
       "\n",
       "       [[255, 255, 255],\n",
       "        [255, 255, 255],\n",
       "        [255, 255, 255],\n",
       "        ...,\n",
       "        [255, 255, 255],\n",
       "        [255, 255, 255],\n",
       "        [255, 255, 255]],\n",
       "\n",
       "       ...,\n",
       "\n",
       "       [[255, 255, 255],\n",
       "        [255, 255, 255],\n",
       "        [255, 255, 255],\n",
       "        ...,\n",
       "        [255, 255, 255],\n",
       "        [255, 255, 255],\n",
       "        [255, 255, 255]],\n",
       "\n",
       "       [[255, 255, 255],\n",
       "        [255, 255, 255],\n",
       "        [255, 255, 255],\n",
       "        ...,\n",
       "        [255, 255, 255],\n",
       "        [255, 255, 255],\n",
       "        [255, 255, 255]],\n",
       "\n",
       "       [[255, 255, 255],\n",
       "        [255, 255, 255],\n",
       "        [255, 255, 255],\n",
       "        ...,\n",
       "        [255, 255, 255],\n",
       "        [255, 255, 255],\n",
       "        [255, 255, 255]]], dtype=uint8)"
      ]
     },
     "execution_count": 120,
     "metadata": {},
     "output_type": "execute_result"
    }
   ],
   "source": [
    "im = cv2.resize(im, (254,254))\n"
   ]
  },
  {
   "cell_type": "code",
   "execution_count": null,
   "metadata": {},
   "outputs": [],
   "source": []
  }
 ],
 "metadata": {
  "kernelspec": {
   "display_name": "seminario",
   "language": "python",
   "name": "python3"
  },
  "language_info": {
   "codemirror_mode": {
    "name": "ipython",
    "version": 3
   },
   "file_extension": ".py",
   "mimetype": "text/x-python",
   "name": "python",
   "nbconvert_exporter": "python",
   "pygments_lexer": "ipython3",
   "version": "3.11.5"
  }
 },
 "nbformat": 4,
 "nbformat_minor": 2
}
