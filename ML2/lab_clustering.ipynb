{
 "cells": [
  {
   "cell_type": "markdown",
   "metadata": {},
   "source": [
    "Analytics & Data Science\n",
    "\n",
    "Universidad de Antioquia - ML2\n",
    "\n",
    "Febrero 2024\n",
    "\n",
    "Melissa Ortega Alzate CC.1036964792"
   ]
  },
  {
   "cell_type": "markdown",
   "metadata": {},
   "source": [
    "# Libraries"
   ]
  },
  {
   "cell_type": "code",
   "execution_count": 46,
   "metadata": {},
   "outputs": [],
   "source": [
    "import numpy as np"
   ]
  },
  {
   "cell_type": "markdown",
   "metadata": {},
   "source": [
    "# Paso 1"
   ]
  },
  {
   "cell_type": "code",
   "execution_count": 47,
   "metadata": {},
   "outputs": [],
   "source": [
    "# Step 1. Randomly initializing K centroid by picking K samples from X\n",
    "def initialize_random_centroids(K, X):\n",
    "    \"\"\"Initializes and returns k random centroids\"\"\"\n",
    "    \n",
    "    m, n = np.shape(X)\n",
    "    \n",
    "    # Initializate empty centroids variable with (K, n) shape\n",
    "    centroids = np.empty((K, n))\n",
    "\n",
    "    for i in range(K):\n",
    "        # pick a random data point from X as the centroid\n",
    "        centroids[i] =  X[np.random.choice(range(m))] \n",
    "    return centroids"
   ]
  },
  {
   "cell_type": "code",
   "execution_count": 48,
   "metadata": {},
   "outputs": [
    {
     "data": {
      "text/plain": [
       "array([[0.37454012, 0.95071431, 0.73199394, 0.59865848, 0.15601864],\n",
       "       [0.15599452, 0.05808361, 0.86617615, 0.60111501, 0.70807258],\n",
       "       [0.02058449, 0.96990985, 0.83244264, 0.21233911, 0.18182497],\n",
       "       [0.18340451, 0.30424224, 0.52475643, 0.43194502, 0.29122914],\n",
       "       [0.61185289, 0.13949386, 0.29214465, 0.36636184, 0.45606998],\n",
       "       [0.78517596, 0.19967378, 0.51423444, 0.59241457, 0.04645041],\n",
       "       [0.60754485, 0.17052412, 0.06505159, 0.94888554, 0.96563203],\n",
       "       [0.80839735, 0.30461377, 0.09767211, 0.68423303, 0.44015249]])"
      ]
     },
     "execution_count": 48,
     "metadata": {},
     "output_type": "execute_result"
    }
   ],
   "source": [
    "np.random.seed(42)\n",
    "\n",
    "X = np.random.rand(8,5)\n",
    "K = 4\n",
    "X"
   ]
  },
  {
   "cell_type": "code",
   "execution_count": 49,
   "metadata": {},
   "outputs": [
    {
     "data": {
      "text/plain": [
       "array([[0.60754485, 0.17052412, 0.06505159, 0.94888554, 0.96563203],\n",
       "       [0.18340451, 0.30424224, 0.52475643, 0.43194502, 0.29122914],\n",
       "       [0.61185289, 0.13949386, 0.29214465, 0.36636184, 0.45606998],\n",
       "       [0.80839735, 0.30461377, 0.09767211, 0.68423303, 0.44015249]])"
      ]
     },
     "execution_count": 49,
     "metadata": {},
     "output_type": "execute_result"
    }
   ],
   "source": [
    "centroids = initialize_random_centroids(K, X)\n",
    "centroids"
   ]
  },
  {
   "cell_type": "markdown",
   "metadata": {},
   "source": [
    "# Paso 2"
   ]
  },
  {
   "cell_type": "code",
   "execution_count": 50,
   "metadata": {},
   "outputs": [],
   "source": [
    "# Calculate the distance between two vectors\n",
    "def euclidean_distance(x1, x2):\n",
    "    \"\"\"Calculates and returns the euclidean distance between two vectors x1 and x2\"\"\"\n",
    "    return np.linalg.norm(x1 - x2)"
   ]
  },
  {
   "cell_type": "code",
   "execution_count": 51,
   "metadata": {},
   "outputs": [],
   "source": [
    "# Step 2. \n",
    "def closest_centroid(x, centroids, K):\n",
    "    \"\"\"Finds and returns the index of the closest centroid for a given vector x\"\"\"\n",
    "    distances = np.empty(K)\n",
    "\n",
    "    for i in range(K):\n",
    "        distances[i] = euclidean_distance(centroids[i], x)\n",
    "    return np.argmin(distances) # return the index of the lowest distance"
   ]
  },
  {
   "cell_type": "code",
   "execution_count": 52,
   "metadata": {},
   "outputs": [
    {
     "data": {
      "text/plain": [
       "1"
      ]
     },
     "execution_count": 52,
     "metadata": {},
     "output_type": "execute_result"
    }
   ],
   "source": [
    "closest_centroid = closest_centroid(X[1], centroids, K)\n",
    "closest_centroid"
   ]
  },
  {
   "cell_type": "code",
   "execution_count": 53,
   "metadata": {},
   "outputs": [
    {
     "data": {
      "text/plain": [
       "array([0.18340451, 0.30424224, 0.52475643, 0.43194502, 0.29122914])"
      ]
     },
     "execution_count": 53,
     "metadata": {},
     "output_type": "execute_result"
    }
   ],
   "source": [
    "centroids[closest_centroid]"
   ]
  },
  {
   "cell_type": "code",
   "execution_count": 54,
   "metadata": {},
   "outputs": [],
   "source": [
    "def create_clusters(centroids, K, X):\n",
    "    \"\"\"Returns an array of cluster indices for all the data samples\"\"\"\n",
    "    m, _ = np.shape(X)\n",
    "    cluster_idx = np.empty(m)\n",
    "    \n",
    "    def closest_centroid(x, centroids, K):\n",
    "        \"\"\"Finds and returns the index of the closest centroid for a given vector x\"\"\"\n",
    "        distances = np.empty(K)\n",
    "        for i in range(K):\n",
    "            distances[i] = euclidean_distance(centroids[i], x)\n",
    "        return np.argmin(distances) # return the index of the lowest distance\n",
    "\n",
    "    for i in range(m):\n",
    "        cluster_idx[i] = closest_centroid(X[i], centroids, K)\n",
    "    return cluster_idx"
   ]
  },
  {
   "cell_type": "code",
   "execution_count": 55,
   "metadata": {},
   "outputs": [
    {
     "data": {
      "text/plain": [
       "array([1., 1., 1., 1., 2., 2., 0., 3.])"
      ]
     },
     "execution_count": 55,
     "metadata": {},
     "output_type": "execute_result"
    }
   ],
   "source": [
    "clusters = create_clusters(centroids, K, X)\n",
    "clusters"
   ]
  },
  {
   "cell_type": "code",
   "execution_count": 56,
   "metadata": {},
   "outputs": [
    {
     "name": "stdout",
     "output_type": "stream",
     "text": [
      "Initial centroids:\n",
      " [[0.61185289 0.13949386 0.29214465 0.36636184 0.45606998]\n",
      " [0.80839735 0.30461377 0.09767211 0.68423303 0.44015249]\n",
      " [0.15599452 0.05808361 0.86617615 0.60111501 0.70807258]\n",
      " [0.18340451 0.30424224 0.52475643 0.43194502 0.29122914]]\n",
      "\n",
      "Final centroids:\n",
      " [[0.69851443 0.16958382 0.40318954 0.47938821 0.2512602 ]\n",
      " [0.7079711  0.23756895 0.08136185 0.81655928 0.70289226]\n",
      " [0.15599452 0.05808361 0.86617615 0.60111501 0.70807258]\n",
      " [0.19284304 0.74162213 0.69639767 0.4143142  0.20969092]]\n",
      "\n"
     ]
    }
   ],
   "source": [
    "from unsupervised.clusters.kmeans import KMEANS\n",
    "\n",
    "# Create a KMeans object\n",
    "kmeans = KMEANS()\n",
    "\n",
    "# Create clusters\n",
    "cluster_indices = kmeans.fit(K, X)"
   ]
  },
  {
   "cell_type": "code",
   "execution_count": 57,
   "metadata": {},
   "outputs": [
    {
     "data": {
      "text/plain": [
       "array([3., 2., 3., 3., 0., 0., 1., 1.])"
      ]
     },
     "execution_count": 57,
     "metadata": {},
     "output_type": "execute_result"
    }
   ],
   "source": [
    "cluster_indices\n"
   ]
  },
  {
   "cell_type": "markdown",
   "metadata": {},
   "source": [
    "cluster_indices es un array de NumPy que contiene los índices de clúster para todas las muestras de datos en X. Cada elemento del array corresponde a una muestra (fila) de datos en X y contiene el índice del clúster al que pertenece esa muestra. Por lo tanto, cluster_indices es un array unidimensional. Cada valor en este array representa el índice del clúster asignado a la muestra de datos correspondiente en X.\n",
    "\n",
    "entonces a la fila 1, le toco el cluster 0\n",
    "a la fila 2"
   ]
  },
  {
   "cell_type": "code",
   "execution_count": 58,
   "metadata": {},
   "outputs": [
    {
     "data": {
      "text/plain": [
       "array([[0.37454012, 0.95071431, 0.73199394, 0.59865848, 0.15601864],\n",
       "       [0.15599452, 0.05808361, 0.86617615, 0.60111501, 0.70807258],\n",
       "       [0.02058449, 0.96990985, 0.83244264, 0.21233911, 0.18182497],\n",
       "       [0.18340451, 0.30424224, 0.52475643, 0.43194502, 0.29122914],\n",
       "       [0.61185289, 0.13949386, 0.29214465, 0.36636184, 0.45606998]])"
      ]
     },
     "execution_count": 58,
     "metadata": {},
     "output_type": "execute_result"
    }
   ],
   "source": [
    "np.random.seed(42)\n",
    "\n",
    "X = np.random.rand(5,5)\n",
    "K = 4\n",
    "X"
   ]
  },
  {
   "cell_type": "code",
   "execution_count": 59,
   "metadata": {},
   "outputs": [],
   "source": [
    "cluster_idx = kmeans.predict(X)"
   ]
  },
  {
   "cell_type": "code",
   "execution_count": 60,
   "metadata": {},
   "outputs": [
    {
     "data": {
      "text/plain": [
       "array([3., 2., 3., 3., 0.])"
      ]
     },
     "execution_count": 60,
     "metadata": {},
     "output_type": "execute_result"
    }
   ],
   "source": [
    "cluster_idx"
   ]
  },
  {
   "cell_type": "code",
   "execution_count": null,
   "metadata": {},
   "outputs": [],
   "source": []
  }
 ],
 "metadata": {
  "kernelspec": {
   "display_name": "seminario",
   "language": "python",
   "name": "python3"
  },
  "language_info": {
   "codemirror_mode": {
    "name": "ipython",
    "version": 3
   },
   "file_extension": ".py",
   "mimetype": "text/x-python",
   "name": "python",
   "nbconvert_exporter": "python",
   "pygments_lexer": "ipython3",
   "version": "3.10.12"
  }
 },
 "nbformat": 4,
 "nbformat_minor": 2
}
