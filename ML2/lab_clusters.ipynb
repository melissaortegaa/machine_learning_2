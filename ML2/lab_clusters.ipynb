{
 "cells": [
  {
   "cell_type": "markdown",
   "metadata": {},
   "source": [
    "Analytics & Data Science\n",
    "\n",
    "Universidad de Antioquia - ML2\n",
    "\n",
    "Febrero 2024\n",
    "\n",
    "Melissa Ortega Alzate CC.1036964792"
   ]
  },
  {
   "cell_type": "markdown",
   "metadata": {},
   "source": [
    "# Libraries"
   ]
  },
  {
   "cell_type": "code",
   "execution_count": 71,
   "metadata": {},
   "outputs": [],
   "source": [
    "import numpy as np"
   ]
  },
  {
   "cell_type": "markdown",
   "metadata": {},
   "source": [
    "# Paso 1"
   ]
  },
  {
   "cell_type": "code",
   "execution_count": 72,
   "metadata": {},
   "outputs": [],
   "source": [
    "# Step 1. Randomly initializing K centroid by picking K samples from X\n",
    "def initialize_random_centroids(K, X):\n",
    "    \"\"\"Initializes and returns k random centroids\"\"\"\n",
    "    \n",
    "    m, n = np.shape(X)\n",
    "    \n",
    "    # Initializate empty centroids variable with (K, n) shape\n",
    "    centroids = np.empty((K, n))\n",
    "\n",
    "    for i in range(K):\n",
    "        # pick a random data point from X as the centroid\n",
    "        centroids[i] =  X[np.random.choice(range(m))] \n",
    "    return centroids"
   ]
  },
  {
   "cell_type": "code",
   "execution_count": 73,
   "metadata": {},
   "outputs": [
    {
     "data": {
      "text/plain": [
       "array([[0.62354407, 0.85563254, 0.75774498, 0.15996691, 0.26329512],\n",
       "       [0.40045384, 0.48763152, 0.18664324, 0.92585266, 0.01341561],\n",
       "       [0.68655395, 0.77499034, 0.44183525, 0.02352377, 0.23401701]])"
      ]
     },
     "execution_count": 73,
     "metadata": {},
     "output_type": "execute_result"
    }
   ],
   "source": [
    "X = np.random.rand(3,5)\n",
    "K =4\n",
    "X"
   ]
  },
  {
   "cell_type": "code",
   "execution_count": 74,
   "metadata": {},
   "outputs": [
    {
     "data": {
      "text/plain": [
       "array([[0.40045384, 0.48763152, 0.18664324, 0.92585266, 0.01341561],\n",
       "       [0.40045384, 0.48763152, 0.18664324, 0.92585266, 0.01341561],\n",
       "       [0.40045384, 0.48763152, 0.18664324, 0.92585266, 0.01341561],\n",
       "       [0.62354407, 0.85563254, 0.75774498, 0.15996691, 0.26329512]])"
      ]
     },
     "execution_count": 74,
     "metadata": {},
     "output_type": "execute_result"
    }
   ],
   "source": [
    "centroids = initialize_random_centroids(K, X)\n",
    "centroids"
   ]
  },
  {
   "cell_type": "markdown",
   "metadata": {},
   "source": [
    "# Paso 2"
   ]
  },
  {
   "cell_type": "code",
   "execution_count": 75,
   "metadata": {},
   "outputs": [],
   "source": [
    "# Calculate the distance between two vectors\n",
    "def euclidean_distance(x1, x2):\n",
    "    \"\"\"Calculates and returns the euclidean distance between two vectors x1 and x2\"\"\"\n",
    "    return np.linalg.norm(x1 - x2)"
   ]
  },
  {
   "cell_type": "code",
   "execution_count": 76,
   "metadata": {},
   "outputs": [],
   "source": [
    "# Step 2. \n",
    "def closest_centroid(x, centroids, K):\n",
    "    \"\"\"Finds and returns the index of the closest centroid for a given vector x\"\"\"\n",
    "    distances = np.empty(K)\n",
    "\n",
    "    for i in range(K):\n",
    "        distances[i] = euclidean_distance(centroids[i], x)\n",
    "    return np.argmin(distances) # return the index of the lowest distance"
   ]
  },
  {
   "cell_type": "code",
   "execution_count": 77,
   "metadata": {},
   "outputs": [],
   "source": [
    "def closest_centroid(x, centroids, K):\n",
    "    \"\"\"Finds and returns the index of the closest centroid for a given vector x\"\"\"\n",
    "    distances = np.empty(K)\n",
    "    \n",
    "    for i in range(K):\n",
    "        distances[i] = euclidean_distance(centroids[i], x)\n",
    "    return np.argmin(distances) # return the index of the lowest distance"
   ]
  },
  {
   "cell_type": "code",
   "execution_count": 78,
   "metadata": {},
   "outputs": [
    {
     "data": {
      "text/plain": [
       "3"
      ]
     },
     "execution_count": 78,
     "metadata": {},
     "output_type": "execute_result"
    }
   ],
   "source": [
    "closest_centroid = closest_centroid(X[1,1], centroids, K)\n",
    "closest_centroid"
   ]
  },
  {
   "cell_type": "code",
   "execution_count": 81,
   "metadata": {},
   "outputs": [
    {
     "data": {
      "text/plain": [
       "array([0.62354407, 0.85563254, 0.75774498, 0.15996691, 0.26329512])"
      ]
     },
     "execution_count": 81,
     "metadata": {},
     "output_type": "execute_result"
    }
   ],
   "source": [
    "centroids[closest_centroid]"
   ]
  },
  {
   "cell_type": "markdown",
   "metadata": {},
   "source": []
  },
  {
   "cell_type": "code",
   "execution_count": 80,
   "metadata": {},
   "outputs": [],
   "source": [
    "# kmeans implementar sólo fit and predict"
   ]
  },
  {
   "cell_type": "code",
   "execution_count": null,
   "metadata": {},
   "outputs": [],
   "source": [
    "# fit: data de entrenamiento\n",
    "# hasta encontrar los clusters\n",
    "# return clusters"
   ]
  },
  {
   "cell_type": "code",
   "execution_count": null,
   "metadata": {},
   "outputs": [],
   "source": [
    "# predict para kmeans: data de prueba\n",
    "# - calcular la distancia de cada dato nuevo a los clusters ya creados"
   ]
  },
  {
   "cell_type": "code",
   "execution_count": null,
   "metadata": {},
   "outputs": [],
   "source": [
    "# swaping para k-medoids en vez de np.median"
   ]
  }
 ],
 "metadata": {
  "kernelspec": {
   "display_name": "seminario",
   "language": "python",
   "name": "python3"
  },
  "language_info": {
   "codemirror_mode": {
    "name": "ipython",
    "version": 3
   },
   "file_extension": ".py",
   "mimetype": "text/x-python",
   "name": "python",
   "nbconvert_exporter": "python",
   "pygments_lexer": "ipython3",
   "version": "3.11.5"
  }
 },
 "nbformat": 4,
 "nbformat_minor": 2
}
